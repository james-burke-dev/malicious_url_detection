{
 "cells": [
  {
   "cell_type": "markdown",
   "id": "656198f9-8427-4039-a37f-f104feb78cde",
   "metadata": {},
   "source": [
    "# Imports"
   ]
  },
  {
   "cell_type": "code",
   "execution_count": 1,
   "id": "fd6f4ac2-488b-45e4-91d1-fe3f7efff320",
   "metadata": {},
   "outputs": [],
   "source": [
    "# Memory Management \n",
    "import psutil \n",
    "import gc\n",
    "\n",
    "import os \n",
    "\n",
    "# Manipulation\n",
    "import numpy as np\n",
    "import pandas as pd \n",
    "\n",
    "# Visualization\n",
    "import matplotlib.pyplot as plt\n",
    "import seaborn as sns\n",
    "\n",
    "# Sampling, Scaling and Splitting\n",
    "from imblearn.under_sampling import RandomUnderSampler\n",
    "from sklearn.preprocessing import StandardScaler\n",
    "from sklearn.model_selection import train_test_split\n",
    "\n",
    "# Models \n",
    "from sklearn.linear_model import LinearRegression\n",
    "from sklearn.linear_model import LogisticRegression\n",
    "from sklearn.neighbors import KNeighborsClassifier\n",
    "\n",
    "# Hyperparameter testing\n",
    "from sklearn.model_selection import GridSearchCV\n",
    "\n",
    "# Evaluation Metrics\n",
    "from sklearn.metrics import confusion_matrix, classification_report, f1_score, accuracy_score, precision_score, recall_score"
   ]
  },
  {
   "cell_type": "markdown",
   "id": "67eb48dd-3a75-4b50-a649-a6e41aaeec9a",
   "metadata": {},
   "source": [
    "# Data Importing "
   ]
  },
  {
   "cell_type": "code",
   "execution_count": 2,
   "id": "c18c2a57-a72f-4312-8134-3afbda293087",
   "metadata": {},
   "outputs": [
    {
     "name": "stdout",
     "output_type": "stream",
     "text": [
      "C:\\Users\\James\\Documents\\Coursework\\UCD - ML\\data\\\n"
     ]
    }
   ],
   "source": [
    "data_path = os.getcwd() + \"\\data\\\\\"\n",
    "print(data_path)"
   ]
  },
  {
   "cell_type": "code",
   "execution_count": null,
   "id": "c5536e67-ec4b-4a5f-b669-f9cd6a90fb5e",
   "metadata": {},
   "outputs": [],
   "source": [
    "TRAIN_DATASET_PATH = data_path + \"train_dataset.csv\"\n",
    "TEST_DATASET_PATH = data_path + \"test_dataset.csv\"\n",
    "\n",
    "train_df = pd.read_csv(TRAIN_DATASET_PATH)\n",
    "test_df = pd.read_csv(TEST_DATASET_PATH)"
   ]
  },
  {
   "cell_type": "markdown",
   "id": "cedb11c7-6285-4339-ac84-4b4ada49aceb",
   "metadata": {},
   "source": [
    "# Data Processing & EDA "
   ]
  },
  {
   "cell_type": "markdown",
   "id": "a0864720-e778-4365-8f3c-4e835c3f0cc8",
   "metadata": {},
   "source": [
    "## Initial look at the data"
   ]
  },
  {
   "cell_type": "code",
   "execution_count": 5,
   "id": "f8540f43-93d0-4269-b68e-e45808cd3dda",
   "metadata": {},
   "outputs": [
    {
     "data": {
      "text/html": [
       "<div>\n",
       "<style scoped>\n",
       "    .dataframe tbody tr th:only-of-type {\n",
       "        vertical-align: middle;\n",
       "    }\n",
       "\n",
       "    .dataframe tbody tr th {\n",
       "        vertical-align: top;\n",
       "    }\n",
       "\n",
       "    .dataframe thead th {\n",
       "        text-align: right;\n",
       "    }\n",
       "</style>\n",
       "<table border=\"1\" class=\"dataframe\">\n",
       "  <thead>\n",
       "    <tr style=\"text-align: right;\">\n",
       "      <th></th>\n",
       "      <th>url</th>\n",
       "      <th>label</th>\n",
       "      <th>source</th>\n",
       "      <th>url_has_login</th>\n",
       "      <th>url_has_client</th>\n",
       "      <th>url_has_server</th>\n",
       "      <th>url_has_admin</th>\n",
       "      <th>url_has_ip</th>\n",
       "      <th>url_isshorted</th>\n",
       "      <th>url_len</th>\n",
       "      <th>...</th>\n",
       "      <th>pdomain_count_hyphen</th>\n",
       "      <th>pdomain_count_atrate</th>\n",
       "      <th>pdomain_count_non_alphanum</th>\n",
       "      <th>pdomain_count_digit</th>\n",
       "      <th>tld_len</th>\n",
       "      <th>tld</th>\n",
       "      <th>tld_is_sus</th>\n",
       "      <th>pdomain_min_distance</th>\n",
       "      <th>subdomain_len</th>\n",
       "      <th>subdomain_count_dot</th>\n",
       "    </tr>\n",
       "  </thead>\n",
       "  <tbody>\n",
       "    <tr>\n",
       "      <th>0</th>\n",
       "      <td>irs-profilepaymentservice.com/home</td>\n",
       "      <td>1</td>\n",
       "      <td>phishtank</td>\n",
       "      <td>0</td>\n",
       "      <td>0</td>\n",
       "      <td>0</td>\n",
       "      <td>0</td>\n",
       "      <td>0</td>\n",
       "      <td>0</td>\n",
       "      <td>34</td>\n",
       "      <td>...</td>\n",
       "      <td>0</td>\n",
       "      <td>0</td>\n",
       "      <td>0</td>\n",
       "      <td>0</td>\n",
       "      <td>3</td>\n",
       "      <td>com</td>\n",
       "      <td>0</td>\n",
       "      <td>17</td>\n",
       "      <td>0</td>\n",
       "      <td>0</td>\n",
       "    </tr>\n",
       "    <tr>\n",
       "      <th>1</th>\n",
       "      <td>cpuggsukabumi.id</td>\n",
       "      <td>0</td>\n",
       "      <td>majestic_million</td>\n",
       "      <td>0</td>\n",
       "      <td>0</td>\n",
       "      <td>0</td>\n",
       "      <td>0</td>\n",
       "      <td>0</td>\n",
       "      <td>0</td>\n",
       "      <td>16</td>\n",
       "      <td>...</td>\n",
       "      <td>0</td>\n",
       "      <td>0</td>\n",
       "      <td>0</td>\n",
       "      <td>0</td>\n",
       "      <td>2</td>\n",
       "      <td>id</td>\n",
       "      <td>1</td>\n",
       "      <td>10</td>\n",
       "      <td>0</td>\n",
       "      <td>0</td>\n",
       "    </tr>\n",
       "    <tr>\n",
       "      <th>2</th>\n",
       "      <td>members.tripod.com/~don_rc/ring.htm</td>\n",
       "      <td>0</td>\n",
       "      <td>data_clean_test_mendel</td>\n",
       "      <td>0</td>\n",
       "      <td>0</td>\n",
       "      <td>0</td>\n",
       "      <td>0</td>\n",
       "      <td>0</td>\n",
       "      <td>0</td>\n",
       "      <td>35</td>\n",
       "      <td>...</td>\n",
       "      <td>0</td>\n",
       "      <td>0</td>\n",
       "      <td>0</td>\n",
       "      <td>0</td>\n",
       "      <td>3</td>\n",
       "      <td>com</td>\n",
       "      <td>0</td>\n",
       "      <td>2</td>\n",
       "      <td>7</td>\n",
       "      <td>0</td>\n",
       "    </tr>\n",
       "    <tr>\n",
       "      <th>3</th>\n",
       "      <td>optuswebmailadminprovider.weebly.com/</td>\n",
       "      <td>1</td>\n",
       "      <td>phishtank</td>\n",
       "      <td>0</td>\n",
       "      <td>0</td>\n",
       "      <td>0</td>\n",
       "      <td>1</td>\n",
       "      <td>0</td>\n",
       "      <td>0</td>\n",
       "      <td>37</td>\n",
       "      <td>...</td>\n",
       "      <td>0</td>\n",
       "      <td>0</td>\n",
       "      <td>0</td>\n",
       "      <td>0</td>\n",
       "      <td>3</td>\n",
       "      <td>com</td>\n",
       "      <td>0</td>\n",
       "      <td>3</td>\n",
       "      <td>25</td>\n",
       "      <td>0</td>\n",
       "    </tr>\n",
       "    <tr>\n",
       "      <th>4</th>\n",
       "      <td>topoz.com.pl</td>\n",
       "      <td>0</td>\n",
       "      <td>dmoz_harvard</td>\n",
       "      <td>0</td>\n",
       "      <td>0</td>\n",
       "      <td>0</td>\n",
       "      <td>0</td>\n",
       "      <td>0</td>\n",
       "      <td>0</td>\n",
       "      <td>12</td>\n",
       "      <td>...</td>\n",
       "      <td>0</td>\n",
       "      <td>0</td>\n",
       "      <td>0</td>\n",
       "      <td>0</td>\n",
       "      <td>6</td>\n",
       "      <td>com.pl</td>\n",
       "      <td>0</td>\n",
       "      <td>3</td>\n",
       "      <td>0</td>\n",
       "      <td>0</td>\n",
       "    </tr>\n",
       "  </tbody>\n",
       "</table>\n",
       "<p>5 rows × 60 columns</p>\n",
       "</div>"
      ],
      "text/plain": [
       "                                     url  label                  source  \\\n",
       "0     irs-profilepaymentservice.com/home      1               phishtank   \n",
       "1                       cpuggsukabumi.id      0        majestic_million   \n",
       "2    members.tripod.com/~don_rc/ring.htm      0  data_clean_test_mendel   \n",
       "3  optuswebmailadminprovider.weebly.com/      1               phishtank   \n",
       "4                           topoz.com.pl      0            dmoz_harvard   \n",
       "\n",
       "   url_has_login  url_has_client  url_has_server  url_has_admin  url_has_ip  \\\n",
       "0              0               0               0              0           0   \n",
       "1              0               0               0              0           0   \n",
       "2              0               0               0              0           0   \n",
       "3              0               0               0              1           0   \n",
       "4              0               0               0              0           0   \n",
       "\n",
       "   url_isshorted  url_len  ...  pdomain_count_hyphen  pdomain_count_atrate  \\\n",
       "0              0       34  ...                     0                     0   \n",
       "1              0       16  ...                     0                     0   \n",
       "2              0       35  ...                     0                     0   \n",
       "3              0       37  ...                     0                     0   \n",
       "4              0       12  ...                     0                     0   \n",
       "\n",
       "   pdomain_count_non_alphanum  pdomain_count_digit  tld_len     tld  \\\n",
       "0                           0                    0        3     com   \n",
       "1                           0                    0        2      id   \n",
       "2                           0                    0        3     com   \n",
       "3                           0                    0        3     com   \n",
       "4                           0                    0        6  com.pl   \n",
       "\n",
       "   tld_is_sus  pdomain_min_distance  subdomain_len  subdomain_count_dot  \n",
       "0           0                    17              0                    0  \n",
       "1           1                    10              0                    0  \n",
       "2           0                     2              7                    0  \n",
       "3           0                     3             25                    0  \n",
       "4           0                     3              0                    0  \n",
       "\n",
       "[5 rows x 60 columns]"
      ]
     },
     "execution_count": 5,
     "metadata": {},
     "output_type": "execute_result"
    }
   ],
   "source": [
    "# To start with lets look at first 5 values in the training dataset\n",
    "train_df.head(5)"
   ]
  },
  {
   "cell_type": "code",
   "execution_count": 118,
   "id": "775f5c7d-d225-4802-85a1-5f5b3f946f19",
   "metadata": {},
   "outputs": [],
   "source": [
    "def get_sources(df):\n",
    "    ''' returns the unique sources of the URLs in the dataframe'''\n",
    "    return df.source.unique()"
   ]
  },
  {
   "cell_type": "code",
   "execution_count": 119,
   "id": "2900b641-84ac-4e12-aab2-1085e0d45882",
   "metadata": {},
   "outputs": [],
   "source": [
    "def get_shape(df): \n",
    "    ''' returns the total number of rows and columns in the dataframe'''\n",
    "    return [df.shape[0],df.shape[1]]"
   ]
  },
  {
   "cell_type": "code",
   "execution_count": 120,
   "id": "a79b62ed-237b-420a-91a7-dd4eadf831d8",
   "metadata": {},
   "outputs": [
    {
     "name": "stdout",
     "output_type": "stream",
     "text": [
      "Training Sources: ['phishtank' 'majestic_million' 'data_clean_test_mendel' 'dmoz_harvard'\n",
      " 'data_clean_train_mendel' 'alexatop1m' 'domcop' 'ALL-phishing-domains'\n",
      " 'tranco_K2K4W' 'ALL-phishing-links' 'manual' 'aa419' 'openphish'\n",
      " 'top500Domains']\n",
      "Training Shape: [6728848, 60]\n",
      "Test Sources: ['dmoz_harvard' 'majestic_million' 'alexatop1m' 'data_clean_train_mendel'\n",
      " 'ALL-phishing-domains' 'domcop' 'ALL-phishing-links' 'phishtank'\n",
      " 'tranco_K2K4W' 'data_clean_test_mendel' 'aa419' 'manual' 'openphish']\n",
      "Test Shape: [1682213, 60]\n"
     ]
    }
   ],
   "source": [
    "print(f\"Training Sources: {get_sources(train_df)}\")\n",
    "print(f\"Training Shape: {get_shape(train_df)}\")\n",
    "print(f\"Test Sources: {get_sources(test_df)}\")\n",
    "print(f\"Test Shape: {get_shape(test_df)}\")"
   ]
  },
  {
   "cell_type": "markdown",
   "id": "721207ca-8e64-464e-aaa3-c68ebc24137f",
   "metadata": {},
   "source": [
    "**Comment:**\n",
    "We now know the two datasets contain the same number of columns and are sourced from some of the same locations"
   ]
  },
  {
   "cell_type": "markdown",
   "id": "22df4704-58fe-4722-857e-d7b295cb3716",
   "metadata": {
    "jp-MarkdownHeadingCollapsed": true
   },
   "source": [
    "## Validating Data Types"
   ]
  },
  {
   "cell_type": "code",
   "execution_count": 121,
   "id": "fdf18a72-9d33-4e30-9c93-74dba06d6c50",
   "metadata": {},
   "outputs": [],
   "source": [
    "def print_datatypes(df, title): \n",
    "    print(title)\n",
    "    print(df.info())\n",
    "    print(\"\\n\")\n",
    "    return"
   ]
  },
  {
   "cell_type": "code",
   "execution_count": 122,
   "id": "7fb85caf-bcb3-4c39-8a27-75058c4a7256",
   "metadata": {},
   "outputs": [
    {
     "name": "stdout",
     "output_type": "stream",
     "text": [
      "Training Dataframe Datatypes:\n",
      "<class 'pandas.core.frame.DataFrame'>\n",
      "RangeIndex: 6728848 entries, 0 to 6728847\n",
      "Data columns (total 60 columns):\n",
      " #   Column                               Dtype  \n",
      "---  ------                               -----  \n",
      " 0   url                                  object \n",
      " 1   label                                int64  \n",
      " 2   source                               object \n",
      " 3   url_has_login                        int64  \n",
      " 4   url_has_client                       int64  \n",
      " 5   url_has_server                       int64  \n",
      " 6   url_has_admin                        int64  \n",
      " 7   url_has_ip                           int64  \n",
      " 8   url_isshorted                        int64  \n",
      " 9   url_len                              int64  \n",
      " 10  url_entropy                          float64\n",
      " 11  url_hamming_1                        float64\n",
      " 12  url_hamming_00                       float64\n",
      " 13  url_hamming_10                       float64\n",
      " 14  url_hamming_01                       float64\n",
      " 15  url_hamming_11                       float64\n",
      " 16  url_2bentropy                        float64\n",
      " 17  url_3bentropy                        float64\n",
      " 18  url_count_dot                        int64  \n",
      " 19  url_count_https                      int64  \n",
      " 20  url_count_http                       int64  \n",
      " 21  url_count_perc                       int64  \n",
      " 22  url_count_hyphen                     int64  \n",
      " 23  url_count_www                        int64  \n",
      " 24  url_count_atrate                     int64  \n",
      " 25  url_count_hash                       int64  \n",
      " 26  url_count_semicolon                  int64  \n",
      " 27  url_count_underscore                 int64  \n",
      " 28  url_count_ques                       int64  \n",
      " 29  url_count_equal                      int64  \n",
      " 30  url_count_amp                        int64  \n",
      " 31  url_count_letter                     int64  \n",
      " 32  url_count_digit                      int64  \n",
      " 33  url_count_sensitive_financial_words  int64  \n",
      " 34  url_count_sensitive_words            int64  \n",
      " 35  url_nunique_chars_ratio              float64\n",
      " 36  path_len                             int64  \n",
      " 37  path_count_no_of_dir                 int64  \n",
      " 38  path_count_no_of_embed               int64  \n",
      " 39  path_count_zero                      int64  \n",
      " 40  path_count_pertwent                  int64  \n",
      " 41  path_has_any_sensitive_words         int64  \n",
      " 42  path_count_lower                     int64  \n",
      " 43  path_count_upper                     int64  \n",
      " 44  path_count_nonascii                  int64  \n",
      " 45  path_has_singlechardir               int64  \n",
      " 46  path_has_upperdir                    int64  \n",
      " 47  query_len                            int64  \n",
      " 48  query_count_components               int64  \n",
      " 49  pdomain_len                          int64  \n",
      " 50  pdomain_count_hyphen                 int64  \n",
      " 51  pdomain_count_atrate                 int64  \n",
      " 52  pdomain_count_non_alphanum           int64  \n",
      " 53  pdomain_count_digit                  int64  \n",
      " 54  tld_len                              int64  \n",
      " 55  tld                                  object \n",
      " 56  tld_is_sus                           int64  \n",
      " 57  pdomain_min_distance                 int64  \n",
      " 58  subdomain_len                        int64  \n",
      " 59  subdomain_count_dot                  int64  \n",
      "dtypes: float64(9), int64(48), object(3)\n",
      "memory usage: 3.0+ GB\n",
      "None\n",
      "\n",
      "\n",
      "Test Dataframe Datatypes:\n",
      "<class 'pandas.core.frame.DataFrame'>\n",
      "RangeIndex: 1682213 entries, 0 to 1682212\n",
      "Data columns (total 60 columns):\n",
      " #   Column                               Non-Null Count    Dtype  \n",
      "---  ------                               --------------    -----  \n",
      " 0   url                                  1682213 non-null  object \n",
      " 1   label                                1682213 non-null  int64  \n",
      " 2   source                               1682213 non-null  object \n",
      " 3   url_has_login                        1682213 non-null  int64  \n",
      " 4   url_has_client                       1682213 non-null  int64  \n",
      " 5   url_has_server                       1682213 non-null  int64  \n",
      " 6   url_has_admin                        1682213 non-null  int64  \n",
      " 7   url_has_ip                           1682213 non-null  int64  \n",
      " 8   url_isshorted                        1682213 non-null  int64  \n",
      " 9   url_len                              1682213 non-null  int64  \n",
      " 10  url_entropy                          1682213 non-null  float64\n",
      " 11  url_hamming_1                        1682213 non-null  float64\n",
      " 12  url_hamming_00                       1682213 non-null  float64\n",
      " 13  url_hamming_10                       1682213 non-null  float64\n",
      " 14  url_hamming_01                       1682213 non-null  float64\n",
      " 15  url_hamming_11                       1682213 non-null  float64\n",
      " 16  url_2bentropy                        1682213 non-null  float64\n",
      " 17  url_3bentropy                        1682213 non-null  float64\n",
      " 18  url_count_dot                        1682213 non-null  int64  \n",
      " 19  url_count_https                      1682213 non-null  int64  \n",
      " 20  url_count_http                       1682213 non-null  int64  \n",
      " 21  url_count_perc                       1682213 non-null  int64  \n",
      " 22  url_count_hyphen                     1682213 non-null  int64  \n",
      " 23  url_count_www                        1682213 non-null  int64  \n",
      " 24  url_count_atrate                     1682213 non-null  int64  \n",
      " 25  url_count_hash                       1682213 non-null  int64  \n",
      " 26  url_count_semicolon                  1682213 non-null  int64  \n",
      " 27  url_count_underscore                 1682213 non-null  int64  \n",
      " 28  url_count_ques                       1682213 non-null  int64  \n",
      " 29  url_count_equal                      1682213 non-null  int64  \n",
      " 30  url_count_amp                        1682213 non-null  int64  \n",
      " 31  url_count_letter                     1682213 non-null  int64  \n",
      " 32  url_count_digit                      1682213 non-null  int64  \n",
      " 33  url_count_sensitive_financial_words  1682213 non-null  int64  \n",
      " 34  url_count_sensitive_words            1682213 non-null  int64  \n",
      " 35  url_nunique_chars_ratio              1682213 non-null  float64\n",
      " 36  path_len                             1682213 non-null  int64  \n",
      " 37  path_count_no_of_dir                 1682213 non-null  int64  \n",
      " 38  path_count_no_of_embed               1682213 non-null  int64  \n",
      " 39  path_count_zero                      1682213 non-null  int64  \n",
      " 40  path_count_pertwent                  1682213 non-null  int64  \n",
      " 41  path_has_any_sensitive_words         1682213 non-null  int64  \n",
      " 42  path_count_lower                     1682213 non-null  int64  \n",
      " 43  path_count_upper                     1682213 non-null  int64  \n",
      " 44  path_count_nonascii                  1682213 non-null  int64  \n",
      " 45  path_has_singlechardir               1682213 non-null  int64  \n",
      " 46  path_has_upperdir                    1682213 non-null  int64  \n",
      " 47  query_len                            1682213 non-null  int64  \n",
      " 48  query_count_components               1682213 non-null  int64  \n",
      " 49  pdomain_len                          1682213 non-null  int64  \n",
      " 50  pdomain_count_hyphen                 1682213 non-null  int64  \n",
      " 51  pdomain_count_atrate                 1682213 non-null  int64  \n",
      " 52  pdomain_count_non_alphanum           1682213 non-null  int64  \n",
      " 53  pdomain_count_digit                  1682213 non-null  int64  \n",
      " 54  tld_len                              1682213 non-null  int64  \n",
      " 55  tld                                  1682213 non-null  object \n",
      " 56  tld_is_sus                           1682213 non-null  int64  \n",
      " 57  pdomain_min_distance                 1682213 non-null  int64  \n",
      " 58  subdomain_len                        1682213 non-null  int64  \n",
      " 59  subdomain_count_dot                  1682213 non-null  int64  \n",
      "dtypes: float64(9), int64(48), object(3)\n",
      "memory usage: 770.1+ MB\n",
      "None\n",
      "\n",
      "\n"
     ]
    }
   ],
   "source": [
    "print_datatypes(train_df, \"Training Dataframe Datatypes:\")\n",
    "print_datatypes(test_df, \"Test Dataframe Datatypes:\")"
   ]
  },
  {
   "cell_type": "markdown",
   "id": "ce44c0be-3e7e-423d-96a4-878fefb86570",
   "metadata": {},
   "source": [
    "**Comment:**\n",
    "Upon investigation it appears the datatypes associated with each of the column is consistent between the two dataframes. \n",
    "Also the datatypes assigned to each column is correct, where all count or length columns are integers, boolean values like \"url_has_login\" or \"tld_is_sus\" are integer datatypes as well as ratios and entropies being floats "
   ]
  },
  {
   "cell_type": "markdown",
   "id": "e8b84803-2501-4e10-bef9-508682192075",
   "metadata": {
    "jp-MarkdownHeadingCollapsed": true
   },
   "source": [
    "## Finding and Removing Null Values \n",
    "In this section we will use the .isna() and .sum() method to find any columns which have missing values in both datasets "
   ]
  },
  {
   "cell_type": "code",
   "execution_count": 123,
   "id": "e5ea271b-bd0b-4582-9443-9bdc233cc5f8",
   "metadata": {},
   "outputs": [],
   "source": [
    "def find_null_values(df):\n",
    "    return df.isna().sum()"
   ]
  },
  {
   "cell_type": "code",
   "execution_count": 124,
   "id": "60e3abe3-1d1d-4a41-a683-b0587073aff0",
   "metadata": {},
   "outputs": [
    {
     "name": "stdout",
     "output_type": "stream",
     "text": [
      "Training Dataframe: \n",
      "url                                    0\n",
      "label                                  0\n",
      "source                                 0\n",
      "url_has_login                          0\n",
      "url_has_client                         0\n",
      "url_has_server                         0\n",
      "url_has_admin                          0\n",
      "url_has_ip                             0\n",
      "url_isshorted                          0\n",
      "url_len                                0\n",
      "url_entropy                            0\n",
      "url_hamming_1                          0\n",
      "url_hamming_00                         0\n",
      "url_hamming_10                         0\n",
      "url_hamming_01                         0\n",
      "url_hamming_11                         0\n",
      "url_2bentropy                          0\n",
      "url_3bentropy                          0\n",
      "url_count_dot                          0\n",
      "url_count_https                        0\n",
      "url_count_http                         0\n",
      "url_count_perc                         0\n",
      "url_count_hyphen                       0\n",
      "url_count_www                          0\n",
      "url_count_atrate                       0\n",
      "url_count_hash                         0\n",
      "url_count_semicolon                    0\n",
      "url_count_underscore                   0\n",
      "url_count_ques                         0\n",
      "url_count_equal                        0\n",
      "url_count_amp                          0\n",
      "url_count_letter                       0\n",
      "url_count_digit                        0\n",
      "url_count_sensitive_financial_words    0\n",
      "url_count_sensitive_words              0\n",
      "url_nunique_chars_ratio                0\n",
      "path_len                               0\n",
      "path_count_no_of_dir                   0\n",
      "path_count_no_of_embed                 0\n",
      "path_count_zero                        0\n",
      "path_count_pertwent                    0\n",
      "path_has_any_sensitive_words           0\n",
      "path_count_lower                       0\n",
      "path_count_upper                       0\n",
      "path_count_nonascii                    0\n",
      "path_has_singlechardir                 0\n",
      "path_has_upperdir                      0\n",
      "query_len                              0\n",
      "query_count_components                 0\n",
      "pdomain_len                            0\n",
      "pdomain_count_hyphen                   0\n",
      "pdomain_count_atrate                   0\n",
      "pdomain_count_non_alphanum             0\n",
      "pdomain_count_digit                    0\n",
      "tld_len                                0\n",
      "tld                                    0\n",
      "tld_is_sus                             0\n",
      "pdomain_min_distance                   0\n",
      "subdomain_len                          0\n",
      "subdomain_count_dot                    0\n",
      "dtype: int64\n",
      "\n",
      "Test Dataframe: \n",
      "url                                    0\n",
      "label                                  0\n",
      "source                                 0\n",
      "url_has_login                          0\n",
      "url_has_client                         0\n",
      "url_has_server                         0\n",
      "url_has_admin                          0\n",
      "url_has_ip                             0\n",
      "url_isshorted                          0\n",
      "url_len                                0\n",
      "url_entropy                            0\n",
      "url_hamming_1                          0\n",
      "url_hamming_00                         0\n",
      "url_hamming_10                         0\n",
      "url_hamming_01                         0\n",
      "url_hamming_11                         0\n",
      "url_2bentropy                          0\n",
      "url_3bentropy                          0\n",
      "url_count_dot                          0\n",
      "url_count_https                        0\n",
      "url_count_http                         0\n",
      "url_count_perc                         0\n",
      "url_count_hyphen                       0\n",
      "url_count_www                          0\n",
      "url_count_atrate                       0\n",
      "url_count_hash                         0\n",
      "url_count_semicolon                    0\n",
      "url_count_underscore                   0\n",
      "url_count_ques                         0\n",
      "url_count_equal                        0\n",
      "url_count_amp                          0\n",
      "url_count_letter                       0\n",
      "url_count_digit                        0\n",
      "url_count_sensitive_financial_words    0\n",
      "url_count_sensitive_words              0\n",
      "url_nunique_chars_ratio                0\n",
      "path_len                               0\n",
      "path_count_no_of_dir                   0\n",
      "path_count_no_of_embed                 0\n",
      "path_count_zero                        0\n",
      "path_count_pertwent                    0\n",
      "path_has_any_sensitive_words           0\n",
      "path_count_lower                       0\n",
      "path_count_upper                       0\n",
      "path_count_nonascii                    0\n",
      "path_has_singlechardir                 0\n",
      "path_has_upperdir                      0\n",
      "query_len                              0\n",
      "query_count_components                 0\n",
      "pdomain_len                            0\n",
      "pdomain_count_hyphen                   0\n",
      "pdomain_count_atrate                   0\n",
      "pdomain_count_non_alphanum             0\n",
      "pdomain_count_digit                    0\n",
      "tld_len                                0\n",
      "tld                                    0\n",
      "tld_is_sus                             0\n",
      "pdomain_min_distance                   0\n",
      "subdomain_len                          0\n",
      "subdomain_count_dot                    0\n",
      "dtype: int64\n"
     ]
    }
   ],
   "source": [
    "print(f\"Training Dataframe: \\n{find_null_values(train_df)}\")\n",
    "print(f\"\\nTest Dataframe: \\n{find_null_values(test_df)}\")"
   ]
  },
  {
   "cell_type": "markdown",
   "id": "1b4ca0b0-7bd6-4c52-a373-913230090b40",
   "metadata": {},
   "source": [
    "**Comment:**\n",
    "There are no null/empty values present in our datasets so removing them is not needed"
   ]
  },
  {
   "cell_type": "markdown",
   "id": "68c512ed-a524-4af8-b2ec-2b909fd0f8c4",
   "metadata": {
    "jp-MarkdownHeadingCollapsed": true
   },
   "source": [
    "## Finding duplicate values "
   ]
  },
  {
   "cell_type": "code",
   "execution_count": 125,
   "id": "1e2e17fc-e034-4c2f-a71f-c0e40b8fad58",
   "metadata": {},
   "outputs": [],
   "source": [
    "def find_duplicates(df,col):\n",
    "    '''This functions searches for duplicate entries in a Series using the dataframe and column passed to it'''\n",
    "    duplicate_rows = df.loc[df.duplicated(subset=[col])]\n",
    "    return duplicate_rows"
   ]
  },
  {
   "cell_type": "code",
   "execution_count": 126,
   "id": "cb4f3e7c-bbf0-4137-803f-da643c323197",
   "metadata": {},
   "outputs": [
    {
     "name": "stdout",
     "output_type": "stream",
     "text": [
      "Training duplicates: 0\n",
      "Test duplicates: 0\n"
     ]
    }
   ],
   "source": [
    "# First we'll want to find out if there are duplicate URLs in each dataset\n",
    "print(f\"Training duplicates: {len(find_duplicates(train_df,'url'))}\")\n",
    "print(f\"Test duplicates: {len(find_duplicates(test_df,'url'))}\")"
   ]
  },
  {
   "cell_type": "markdown",
   "id": "5e57a81b-5a2d-4c52-be59-b5caab201094",
   "metadata": {},
   "source": [
    "**Comment:** No duplicates found in the individual dataframes"
   ]
  },
  {
   "cell_type": "code",
   "execution_count": 127,
   "id": "726e84fe-7d5f-4e4a-80de-a7a89958a486",
   "metadata": {},
   "outputs": [
    {
     "name": "stdout",
     "output_type": "stream",
     "text": [
      "Empty DataFrame\n",
      "Columns: [url, label, source, url_has_login, url_has_client, url_has_server, url_has_admin, url_has_ip, url_isshorted, url_len, url_entropy, url_hamming_1, url_hamming_00, url_hamming_10, url_hamming_01, url_hamming_11, url_2bentropy, url_3bentropy, url_count_dot, url_count_https, url_count_http, url_count_perc, url_count_hyphen, url_count_www, url_count_atrate, url_count_hash, url_count_semicolon, url_count_underscore, url_count_ques, url_count_equal, url_count_amp, url_count_letter, url_count_digit, url_count_sensitive_financial_words, url_count_sensitive_words, url_nunique_chars_ratio, path_len, path_count_no_of_dir, path_count_no_of_embed, path_count_zero, path_count_pertwent, path_has_any_sensitive_words, path_count_lower, path_count_upper, path_count_nonascii, path_has_singlechardir, path_has_upperdir, query_len, query_count_components, pdomain_len, pdomain_count_hyphen, pdomain_count_atrate, pdomain_count_non_alphanum, pdomain_count_digit, tld_len, tld, tld_is_sus, pdomain_min_distance, subdomain_len, subdomain_count_dot, Duplicated]\n",
      "Index: []\n",
      "\n",
      "[0 rows x 61 columns]\n"
     ]
    }
   ],
   "source": [
    "# Now we will want to find any duplicates between the datasets\n",
    "df_merge = pd.concat([train_df, test_df])\n",
    "df_merge['Duplicated'] = df_merge.duplicated(keep=False)\n",
    "df_duplicate = df_merge.loc[df_merge['Duplicated']==True]\n",
    "print(df_duplicate)"
   ]
  },
  {
   "cell_type": "markdown",
   "id": "80e8723f-7dc5-4c7e-96db-e0ea2dc34d90",
   "metadata": {},
   "source": [
    "**Comment:** No duplicates found between the two datasets "
   ]
  },
  {
   "cell_type": "markdown",
   "id": "c5436dbd-a07e-419c-bbd8-4605665679eb",
   "metadata": {},
   "source": [
    "**Comment:** We will use df_merge going forward so that all data is part of the data processing"
   ]
  },
  {
   "cell_type": "code",
   "execution_count": 128,
   "id": "3f51eed2-e377-484e-ae66-9289e16c98ad",
   "metadata": {},
   "outputs": [
    {
     "name": "stdout",
     "output_type": "stream",
     "text": [
      "30.710566585543503\n",
      "30.657298821378863\n"
     ]
    }
   ],
   "source": [
    "# To recover some memory we can delete train_df and test_df\n",
    "print(psutil.virtual_memory().available * 100 / psutil.virtual_memory().total)\n",
    "lst = [train_df, test_df]\n",
    "del train_df\n",
    "del test_df\n",
    "del lst\n",
    "print(psutil.virtual_memory().available * 100 / psutil.virtual_memory().total)"
   ]
  },
  {
   "cell_type": "markdown",
   "id": "0e67ad3a-f119-40c2-9f69-21ce945cb214",
   "metadata": {
    "jp-MarkdownHeadingCollapsed": true
   },
   "source": [
    "## Target & Feature definition"
   ]
  },
  {
   "cell_type": "code",
   "execution_count": 129,
   "id": "400459c2-ce78-4ea8-b14f-e8aca7b10df1",
   "metadata": {},
   "outputs": [
    {
     "ename": "MemoryError",
     "evalue": "Unable to allocate 3.01 GiB for an array with shape (48, 8411061) and data type int64",
     "output_type": "error",
     "traceback": [
      "\u001b[1;31m---------------------------------------------------------------------------\u001b[0m",
      "\u001b[1;31mMemoryError\u001b[0m                               Traceback (most recent call last)",
      "Cell \u001b[1;32mIn[129], line 1\u001b[0m\n\u001b[1;32m----> 1\u001b[0m features \u001b[38;5;241m=\u001b[39m \u001b[38;5;28mlist\u001b[39m(\u001b[43mdf_merge\u001b[49m\u001b[38;5;241;43m.\u001b[39;49m\u001b[43mselect_dtypes\u001b[49m\u001b[43m(\u001b[49m\u001b[43minclude\u001b[49m\u001b[38;5;241;43m=\u001b[39;49m\u001b[43m[\u001b[49m\u001b[38;5;124;43m'\u001b[39;49m\u001b[38;5;124;43mint64\u001b[39;49m\u001b[38;5;124;43m'\u001b[39;49m\u001b[43m,\u001b[49m\u001b[38;5;124;43m'\u001b[39;49m\u001b[38;5;124;43mfloat64\u001b[39;49m\u001b[38;5;124;43m'\u001b[39;49m\u001b[43m]\u001b[49m\u001b[43m)\u001b[49m\u001b[38;5;241m.\u001b[39mcolumns)\n\u001b[0;32m      2\u001b[0m features \u001b[38;5;241m=\u001b[39m \u001b[38;5;28mlist\u001b[39m(\u001b[38;5;28mfilter\u001b[39m((\u001b[38;5;124m'\u001b[39m\u001b[38;5;124mlabel\u001b[39m\u001b[38;5;124m'\u001b[39m)\u001b[38;5;241m.\u001b[39m\u001b[38;5;21m__ne__\u001b[39m, features))\n\u001b[0;32m      4\u001b[0m target \u001b[38;5;241m=\u001b[39m [\u001b[38;5;124m'\u001b[39m\u001b[38;5;124mlabel\u001b[39m\u001b[38;5;124m'\u001b[39m]\n",
      "File \u001b[1;32m~\\AppData\\Local\\Programs\\Python\\Python311\\Lib\\site-packages\\pandas\\core\\frame.py:5079\u001b[0m, in \u001b[0;36mDataFrame.select_dtypes\u001b[1;34m(self, include, exclude)\u001b[0m\n\u001b[0;32m   5075\u001b[0m             \u001b[38;5;28;01mreturn\u001b[39;00m \u001b[38;5;28;01mFalse\u001b[39;00m\n\u001b[0;32m   5077\u001b[0m     \u001b[38;5;28;01mreturn\u001b[39;00m \u001b[38;5;28;01mTrue\u001b[39;00m\n\u001b[1;32m-> 5079\u001b[0m mgr \u001b[38;5;241m=\u001b[39m \u001b[38;5;28;43mself\u001b[39;49m\u001b[38;5;241;43m.\u001b[39;49m\u001b[43m_mgr\u001b[49m\u001b[38;5;241;43m.\u001b[39;49m\u001b[43m_get_data_subset\u001b[49m\u001b[43m(\u001b[49m\u001b[43mpredicate\u001b[49m\u001b[43m)\u001b[49m\u001b[38;5;241;43m.\u001b[39;49m\u001b[43mcopy\u001b[49m\u001b[43m(\u001b[49m\u001b[43mdeep\u001b[49m\u001b[38;5;241;43m=\u001b[39;49m\u001b[38;5;28;43;01mNone\u001b[39;49;00m\u001b[43m)\u001b[49m\n\u001b[0;32m   5080\u001b[0m \u001b[38;5;28;01mreturn\u001b[39;00m \u001b[38;5;28mself\u001b[39m\u001b[38;5;241m.\u001b[39m_constructor_from_mgr(mgr, axes\u001b[38;5;241m=\u001b[39mmgr\u001b[38;5;241m.\u001b[39maxes)\u001b[38;5;241m.\u001b[39m__finalize__(\u001b[38;5;28mself\u001b[39m)\n",
      "File \u001b[1;32m~\\AppData\\Local\\Programs\\Python\\Python311\\Lib\\site-packages\\pandas\\core\\internals\\managers.py:604\u001b[0m, in \u001b[0;36mBaseBlockManager.copy\u001b[1;34m(self, deep)\u001b[0m\n\u001b[0;32m    601\u001b[0m         res\u001b[38;5;241m.\u001b[39m_blklocs \u001b[38;5;241m=\u001b[39m \u001b[38;5;28mself\u001b[39m\u001b[38;5;241m.\u001b[39m_blklocs\u001b[38;5;241m.\u001b[39mcopy()\n\u001b[0;32m    603\u001b[0m \u001b[38;5;28;01mif\u001b[39;00m deep:\n\u001b[1;32m--> 604\u001b[0m     \u001b[43mres\u001b[49m\u001b[38;5;241;43m.\u001b[39;49m\u001b[43m_consolidate_inplace\u001b[49m\u001b[43m(\u001b[49m\u001b[43m)\u001b[49m\n\u001b[0;32m    605\u001b[0m \u001b[38;5;28;01mreturn\u001b[39;00m res\n",
      "File \u001b[1;32m~\\AppData\\Local\\Programs\\Python\\Python311\\Lib\\site-packages\\pandas\\core\\internals\\managers.py:1786\u001b[0m, in \u001b[0;36mBlockManager._consolidate_inplace\u001b[1;34m(self)\u001b[0m\n\u001b[0;32m   1780\u001b[0m \u001b[38;5;28;01mdef\u001b[39;00m \u001b[38;5;21m_consolidate_inplace\u001b[39m(\u001b[38;5;28mself\u001b[39m) \u001b[38;5;241m-\u001b[39m\u001b[38;5;241m>\u001b[39m \u001b[38;5;28;01mNone\u001b[39;00m:\n\u001b[0;32m   1781\u001b[0m     \u001b[38;5;66;03m# In general, _consolidate_inplace should only be called via\u001b[39;00m\n\u001b[0;32m   1782\u001b[0m     \u001b[38;5;66;03m#  DataFrame._consolidate_inplace, otherwise we will fail to invalidate\u001b[39;00m\n\u001b[0;32m   1783\u001b[0m     \u001b[38;5;66;03m#  the DataFrame's _item_cache. The exception is for newly-created\u001b[39;00m\n\u001b[0;32m   1784\u001b[0m     \u001b[38;5;66;03m#  BlockManager objects not yet attached to a DataFrame.\u001b[39;00m\n\u001b[0;32m   1785\u001b[0m     \u001b[38;5;28;01mif\u001b[39;00m \u001b[38;5;129;01mnot\u001b[39;00m \u001b[38;5;28mself\u001b[39m\u001b[38;5;241m.\u001b[39mis_consolidated():\n\u001b[1;32m-> 1786\u001b[0m         \u001b[38;5;28mself\u001b[39m\u001b[38;5;241m.\u001b[39mblocks \u001b[38;5;241m=\u001b[39m \u001b[43m_consolidate\u001b[49m\u001b[43m(\u001b[49m\u001b[38;5;28;43mself\u001b[39;49m\u001b[38;5;241;43m.\u001b[39;49m\u001b[43mblocks\u001b[49m\u001b[43m)\u001b[49m\n\u001b[0;32m   1787\u001b[0m         \u001b[38;5;28mself\u001b[39m\u001b[38;5;241m.\u001b[39m_is_consolidated \u001b[38;5;241m=\u001b[39m \u001b[38;5;28;01mTrue\u001b[39;00m\n\u001b[0;32m   1788\u001b[0m         \u001b[38;5;28mself\u001b[39m\u001b[38;5;241m.\u001b[39m_known_consolidated \u001b[38;5;241m=\u001b[39m \u001b[38;5;28;01mTrue\u001b[39;00m\n",
      "File \u001b[1;32m~\\AppData\\Local\\Programs\\Python\\Python311\\Lib\\site-packages\\pandas\\core\\internals\\managers.py:2267\u001b[0m, in \u001b[0;36m_consolidate\u001b[1;34m(blocks)\u001b[0m\n\u001b[0;32m   2265\u001b[0m new_blocks: \u001b[38;5;28mlist\u001b[39m[Block] \u001b[38;5;241m=\u001b[39m []\n\u001b[0;32m   2266\u001b[0m \u001b[38;5;28;01mfor\u001b[39;00m (_can_consolidate, dtype), group_blocks \u001b[38;5;129;01min\u001b[39;00m grouper:\n\u001b[1;32m-> 2267\u001b[0m     merged_blocks, _ \u001b[38;5;241m=\u001b[39m \u001b[43m_merge_blocks\u001b[49m\u001b[43m(\u001b[49m\n\u001b[0;32m   2268\u001b[0m \u001b[43m        \u001b[49m\u001b[38;5;28;43mlist\u001b[39;49m\u001b[43m(\u001b[49m\u001b[43mgroup_blocks\u001b[49m\u001b[43m)\u001b[49m\u001b[43m,\u001b[49m\u001b[43m \u001b[49m\u001b[43mdtype\u001b[49m\u001b[38;5;241;43m=\u001b[39;49m\u001b[43mdtype\u001b[49m\u001b[43m,\u001b[49m\u001b[43m \u001b[49m\u001b[43mcan_consolidate\u001b[49m\u001b[38;5;241;43m=\u001b[39;49m\u001b[43m_can_consolidate\u001b[49m\n\u001b[0;32m   2269\u001b[0m \u001b[43m    \u001b[49m\u001b[43m)\u001b[49m\n\u001b[0;32m   2270\u001b[0m     new_blocks \u001b[38;5;241m=\u001b[39m extend_blocks(merged_blocks, new_blocks)\n\u001b[0;32m   2271\u001b[0m \u001b[38;5;28;01mreturn\u001b[39;00m \u001b[38;5;28mtuple\u001b[39m(new_blocks)\n",
      "File \u001b[1;32m~\\AppData\\Local\\Programs\\Python\\Python311\\Lib\\site-packages\\pandas\\core\\internals\\managers.py:2299\u001b[0m, in \u001b[0;36m_merge_blocks\u001b[1;34m(blocks, dtype, can_consolidate)\u001b[0m\n\u001b[0;32m   2296\u001b[0m     new_values \u001b[38;5;241m=\u001b[39m bvals2[\u001b[38;5;241m0\u001b[39m]\u001b[38;5;241m.\u001b[39m_concat_same_type(bvals2, axis\u001b[38;5;241m=\u001b[39m\u001b[38;5;241m0\u001b[39m)\n\u001b[0;32m   2298\u001b[0m argsort \u001b[38;5;241m=\u001b[39m np\u001b[38;5;241m.\u001b[39margsort(new_mgr_locs)\n\u001b[1;32m-> 2299\u001b[0m new_values \u001b[38;5;241m=\u001b[39m \u001b[43mnew_values\u001b[49m\u001b[43m[\u001b[49m\u001b[43margsort\u001b[49m\u001b[43m]\u001b[49m\n\u001b[0;32m   2300\u001b[0m new_mgr_locs \u001b[38;5;241m=\u001b[39m new_mgr_locs[argsort]\n\u001b[0;32m   2302\u001b[0m bp \u001b[38;5;241m=\u001b[39m BlockPlacement(new_mgr_locs)\n",
      "\u001b[1;31mMemoryError\u001b[0m: Unable to allocate 3.01 GiB for an array with shape (48, 8411061) and data type int64"
     ]
    }
   ],
   "source": [
    "features = list(df_merge.select_dtypes(include=['int64','float64']).columns)\n",
    "features = list(filter(('label').__ne__, features))\n",
    "\n",
    "target = ['label']"
   ]
  },
  {
   "cell_type": "markdown",
   "id": "92d7c84d-12e7-4708-8c3f-7c1518929d48",
   "metadata": {},
   "source": [
    "## Finding Outliers "
   ]
  },
  {
   "cell_type": "code",
   "execution_count": null,
   "id": "2c385998-6c8c-4611-a200-fa7824c4906e",
   "metadata": {},
   "outputs": [],
   "source": [
    "# The main feature to focus our attention on when investigating outliers is the \"url_len\"\n",
    "boxplot_with_outs = sns.catplot(data=df_merge, x=\"label\", y=\"url_len\", hue=\"label\", kind=\"box\")\n",
    "fig_name = f\"url-len-boxplot.png\"\n",
    "plt.savefig(fig_name) "
   ]
  },
  {
   "cell_type": "markdown",
   "id": "127e9051-bbb6-411f-8733-727991140aa1",
   "metadata": {},
   "source": [
    "**Comment:** Looking at the above plot it is clear to see we have a large number of outliers "
   ]
  },
  {
   "cell_type": "code",
   "execution_count": null,
   "id": "f3ef1ed6-bf9f-47b1-b7ca-cb2921b9adf7",
   "metadata": {},
   "outputs": [],
   "source": [
    "# To better understand this we can use the describe function to see the percentiles \n",
    "df_merge[\"url_len\"].describe().round(2)"
   ]
  },
  {
   "cell_type": "code",
   "execution_count": null,
   "id": "5e033574-5b2c-4059-a7f6-5c433d5af782",
   "metadata": {},
   "outputs": [],
   "source": [
    "def find_outliers(df):\n",
    "    Q1 = df[\"url_len\"].quantile(0.25)\n",
    "    Q3 = df[\"url_len\"].quantile(0.75)\n",
    "    IQR = Q3 - Q1\n",
    "\n",
    "    fence_low = Q1 - (1.5*IQR)\n",
    "    print(f\"fence_low: {fence_low}\")\n",
    "    fence_high = Q3 + (1.5*IQR)\n",
    "    print(f\"fence_high: {fence_high}\")\n",
    "    \n",
    "    df_out = df.loc[(df[\"url_len\"] > fence_low) & (df[\"url_len\"] < fence_high)]\n",
    "    return df_out"
   ]
  },
  {
   "cell_type": "code",
   "execution_count": null,
   "id": "5661d6ec-8dc2-4978-a2b3-ca8c89e6df67",
   "metadata": {},
   "outputs": [],
   "source": [
    "df_out = find_outliers(df_merge)\n",
    "df_out[\"url_len\"].describe().round(2)"
   ]
  },
  {
   "cell_type": "code",
   "execution_count": null,
   "id": "0b2be9c6-adee-4df0-bf86-1fa659a2cc33",
   "metadata": {},
   "outputs": [],
   "source": [
    "df_merge.shape"
   ]
  },
  {
   "cell_type": "code",
   "execution_count": null,
   "id": "c2013cbf-bbaa-4a76-94c2-c30f3bd6e46a",
   "metadata": {},
   "outputs": [],
   "source": [
    "df_out.shape"
   ]
  },
  {
   "cell_type": "code",
   "execution_count": null,
   "id": "6c65377b-560a-4a83-8321-53d188ff431d",
   "metadata": {},
   "outputs": [],
   "source": [
    "boxplot = sns.catplot(data=df_out, x=\"label\", y=\"url_len\", hue=\"label\", kind=\"box\")\n",
    "fig_name = f\"url-len-boxplot-post.png\"\n",
    "plt.savefig(fig_name) "
   ]
  },
  {
   "cell_type": "markdown",
   "id": "f8b06267-f418-460b-b727-64b1efef5b16",
   "metadata": {},
   "source": [
    "**Comment:** We have now removed outliers with long URL lengths "
   ]
  },
  {
   "cell_type": "markdown",
   "id": "415cb036-7ea7-4dc5-ac49-ba64fd3bbadb",
   "metadata": {},
   "source": [
    "**Comment:** Going forward we will use the df_out dataframe as it contains the processed data"
   ]
  },
  {
   "cell_type": "code",
   "execution_count": null,
   "id": "4fe77435-8b3d-4413-9a7e-2980a5814fdc",
   "metadata": {},
   "outputs": [],
   "source": [
    "#  To free upsome memory we can now remove df_merge\n",
    "print(psutil.virtual_memory().available * 100 / psutil.virtual_memory().total)\n",
    "lst = [df_merge]\n",
    "del df_merge\n",
    "del lst\n",
    "print(psutil.virtual_memory().available * 100 / psutil.virtual_memory().total)"
   ]
  },
  {
   "cell_type": "markdown",
   "id": "14bda21e-7433-4183-8cdc-4e541de5790d",
   "metadata": {
    "jp-MarkdownHeadingCollapsed": true
   },
   "source": [
    "## Investigating the Target"
   ]
  },
  {
   "cell_type": "code",
   "execution_count": null,
   "id": "ad0aea28-23a0-4f1b-aac7-c48158ff82c3",
   "metadata": {},
   "outputs": [],
   "source": [
    "def print_col_counts(df,col):\n",
    "    return df.value_counts(col)"
   ]
  },
  {
   "cell_type": "code",
   "execution_count": null,
   "id": "9f2116cf-bdd7-42d4-9e0d-8fbedf0ec6ca",
   "metadata": {},
   "outputs": [],
   "source": [
    "# Let's now look at the amount of Malicious and Benign URLs using the \"label\" column in the training dataframe \n",
    "print(f\"{print_col_counts(df_out,'label')}\")"
   ]
  },
  {
   "cell_type": "markdown",
   "id": "8c3cf721-4c91-4a26-8f82-1f3583a1f383",
   "metadata": {},
   "source": [
    "**Comment:**\n",
    "It appears the amount of Malicious and Benign URLs is uneven in both our dataset. To allow for this we made need to oversample/undersample one group"
   ]
  },
  {
   "cell_type": "code",
   "execution_count": null,
   "id": "9ffd0977-cf73-41b0-97fc-25ae64a99fc2",
   "metadata": {},
   "outputs": [],
   "source": [
    "def generate_pie_chart(df, target_col, title):\n",
    "    fig, ax = plt.subplots()\n",
    "    plt.title(title)\n",
    "    ax.pie(df.value_counts(target_col), labels=df.value_counts(target_col).index, autopct='%1.1f%%')\n",
    "    fig_name = f\"target_breakdown.png\"\n",
    "    fig.savefig(fig_name)\n",
    "    plt.show()"
   ]
  },
  {
   "cell_type": "code",
   "execution_count": null,
   "id": "b6b75702-4365-4671-a277-b1b80dd9063e",
   "metadata": {},
   "outputs": [],
   "source": [
    "# We should plot the breakdown Malicious and Benign URLs in the dataset to better understand the difference in target groups\n",
    "generate_pie_chart(df_out, 'label', \"% Target Breakdown\")\n"
   ]
  },
  {
   "cell_type": "markdown",
   "id": "5a20a6aa-0539-4a85-965f-039389378461",
   "metadata": {},
   "source": [
    "**Comment:**\n",
    "\n",
    "It appears the amount of Malicious and Benign URLs is uneven in both our Training data and our Test data. To allow for this we made need to oversample the malicious group or undersample the benign group"
   ]
  },
  {
   "cell_type": "code",
   "execution_count": null,
   "id": "e224879a-3604-457e-81d7-f269ce344322",
   "metadata": {},
   "outputs": [],
   "source": [
    "plt.close()"
   ]
  },
  {
   "cell_type": "markdown",
   "id": "aaeb82b4-5c9f-4e36-8ef8-15ec87c3b609",
   "metadata": {},
   "source": [
    "### Correlation between features and target"
   ]
  },
  {
   "cell_type": "code",
   "execution_count": null,
   "id": "6584b9e0-7c9f-4da6-b61e-9458f909cdad",
   "metadata": {},
   "outputs": [],
   "source": [
    "df_out.select_dtypes(include=['int64','float64']).corr()[\"label\"].sort_values()"
   ]
  },
  {
   "cell_type": "markdown",
   "id": "a3d29a64-9ced-435d-a79b-5ac9b3c21e57",
   "metadata": {},
   "source": [
    "**Comment:** This provides us with a rough understanding of the relationship between the features and our target\n",
    "48 of the features in the dataset have a correlation coefficient between -0.3 and 0.3. This indicates that these features have weak linear relationship with the target\n",
    "\n",
    "\"pdomain_count_atrate\" oddly contains a NaN value which needs further investigation\n",
    "\n",
    "7 features have a moderate positive relationship with target \"url_count_digit\", \"path_count_lower\", \"url_count_letter\", \"path_count_no_of_dir\", \"url_entropy\", \"subdomain_len\", \"url_len\"\n"
   ]
  },
  {
   "cell_type": "code",
   "execution_count": null,
   "id": "c82676a3-137c-4afa-97e4-60a97b30f544",
   "metadata": {},
   "outputs": [],
   "source": [
    "# Looking at \"pdomain_count_atrate\": \n",
    "df_out[\"pdomain_count_atrate\"].describe().round(2)"
   ]
  },
  {
   "cell_type": "markdown",
   "id": "35c754ae-33e4-4696-a442-feea6096c1f6",
   "metadata": {},
   "source": [
    "**Comment:** As this column contains only 0 values it can be dropped as it adds nothing to the dataset"
   ]
  },
  {
   "cell_type": "code",
   "execution_count": null,
   "id": "7eb2fd7b-66c4-4608-8c07-a3e5926af0a6",
   "metadata": {},
   "outputs": [],
   "source": [
    "df_out.shape"
   ]
  },
  {
   "cell_type": "code",
   "execution_count": null,
   "id": "1a789e5d-f268-40a5-925b-215314de5adf",
   "metadata": {},
   "outputs": [],
   "source": [
    "df_out = df_out.drop(\"pdomain_count_atrate\", axis=1)"
   ]
  },
  {
   "cell_type": "code",
   "execution_count": null,
   "id": "3b6d4d24-1c5e-41cc-9387-d7e3d33c87ae",
   "metadata": {},
   "outputs": [],
   "source": [
    "df_out.shape"
   ]
  },
  {
   "cell_type": "code",
   "execution_count": null,
   "id": "54c658b2-c0d4-40cf-ae77-36b47a22e5ea",
   "metadata": {},
   "outputs": [],
   "source": [
    "def plot_target_feature_relationship(df, target_col, cols, type): \n",
    "    for col in cols:\n",
    "        fig = sns.catplot(x=target_col, y=col, data=df, \\\n",
    "                    kind=type, \\\n",
    "                    hue=target_col)\n",
    "        fig_name = f\"{type}-{col}.png\"\n",
    "        fig.savefig(fig_name) "
   ]
  },
  {
   "cell_type": "code",
   "execution_count": null,
   "id": "1263863c-fe12-4616-b510-db512a002e76",
   "metadata": {},
   "outputs": [],
   "source": [
    "plot_target_feature_relationship(\\\n",
    "    df_out, \\\n",
    "    'label', \\\n",
    "    [\"url_count_digit\", \"path_count_lower\", \"url_count_letter\", \"path_count_no_of_dir\", \"url_entropy\", \"subdomain_len\", \"url_len\"],\\\n",
    "    \"violin\")"
   ]
  },
  {
   "cell_type": "code",
   "execution_count": null,
   "id": "6d2154b2-6ec1-459a-bf70-d1144703b5f4",
   "metadata": {},
   "outputs": [],
   "source": [
    "plt.close()"
   ]
  },
  {
   "cell_type": "code",
   "execution_count": null,
   "id": "a503f0ab-dc19-4c5d-8c18-97325bcc0370",
   "metadata": {},
   "outputs": [],
   "source": [
    "print(psutil.virtual_memory().available * 100 / psutil.virtual_memory().total)\n",
    "gc.collect()\n",
    "print(psutil.virtual_memory().available * 100 / psutil.virtual_memory().total)"
   ]
  },
  {
   "cell_type": "markdown",
   "id": "6e9eca2b-c173-4008-8704-92e058126ec0",
   "metadata": {
    "jp-MarkdownHeadingCollapsed": true
   },
   "source": [
    "## Categorical Data"
   ]
  },
  {
   "cell_type": "code",
   "execution_count": null,
   "id": "5e1274a3-22ca-4daa-964a-e69959f9519e",
   "metadata": {},
   "outputs": [],
   "source": [
    "def print_unique_counts(df, title):\n",
    "    non_numeric = df.select_dtypes(\"object\")\n",
    "    print(title)\n",
    "    for col in non_numeric.columns:\n",
    "        print(f\"Number of unique values in {col} column: \", non_numeric[col].nunique())"
   ]
  },
  {
   "cell_type": "code",
   "execution_count": null,
   "id": "3dba2228-d462-4dde-807d-4c2553c799aa",
   "metadata": {},
   "outputs": [],
   "source": [
    "print_unique_counts(df_out, \"Object Data: \")"
   ]
  },
  {
   "cell_type": "markdown",
   "id": "dd9f18e6-b653-4615-b272-db2ba13693c2",
   "metadata": {},
   "source": [
    "**Comment:** These will not be used with the model "
   ]
  },
  {
   "cell_type": "code",
   "execution_count": null,
   "id": "b8815113-0813-4573-a554-2684519a6ffb",
   "metadata": {},
   "outputs": [],
   "source": [
    "df_out.shape"
   ]
  },
  {
   "cell_type": "code",
   "execution_count": null,
   "id": "7ac4c43c-75bd-40ce-913d-b0fb8dafee00",
   "metadata": {},
   "outputs": [],
   "source": [
    "object_cols = list(df_out.select_dtypes(\"object\"))\n",
    "df_out = df_out.drop(object_cols, axis=1)"
   ]
  },
  {
   "cell_type": "code",
   "execution_count": null,
   "id": "9803ef46-0d6a-4e7d-b39d-2fd92ed739ca",
   "metadata": {},
   "outputs": [],
   "source": [
    "df_out.shape"
   ]
  },
  {
   "cell_type": "code",
   "execution_count": null,
   "id": "418caa3a-3a87-407a-a8d2-8516c03c1e33",
   "metadata": {},
   "outputs": [],
   "source": [
    "print(psutil.virtual_memory().available * 100 / psutil.virtual_memory().total)\n",
    "gc.collect()\n",
    "print(psutil.virtual_memory().available * 100 / psutil.virtual_memory().total)"
   ]
  },
  {
   "cell_type": "markdown",
   "id": "c15ddbb0-6ee5-4c42-bd36-bf0141e8fd4c",
   "metadata": {
    "jp-MarkdownHeadingCollapsed": true
   },
   "source": [
    "## Boolean Feature "
   ]
  },
  {
   "cell_type": "code",
   "execution_count": null,
   "id": "d918b544-0aa1-4de0-88ce-d4deec745ed2",
   "metadata": {},
   "outputs": [],
   "source": [
    "# These features were identified by looking through the information returned by .head()\n",
    "boolean_features= [\"label\",\"url_has_login\",\"url_has_client\",\"url_has_server\",\"url_has_admin\",\"url_has_ip\",\"url_isshorted\",\"path_has_any_sensitive_words\",\"path_has_singlechardir\",\"path_has_upperdir\",\"tld_is_sus\" ]"
   ]
  },
  {
   "cell_type": "code",
   "execution_count": null,
   "id": "d2451640-4279-408b-b550-f18fa99cc726",
   "metadata": {},
   "outputs": [],
   "source": [
    "def filter_and_add_label_col(col_group):\n",
    "    # To stop multiple 'label' entries in the list filter all entries of it \n",
    "    col_group = list(filter(('label').__ne__, col_group))\n",
    "\n",
    "    # If no 'label' present at the start add label so we can group by it \n",
    "    if col_group[0] != 'label':\n",
    "        col_group.insert(0, 'label')\n",
    "    return col_group"
   ]
  },
  {
   "cell_type": "code",
   "execution_count": null,
   "id": "ba4f02b6-5806-4654-9884-566c9317eedb",
   "metadata": {},
   "outputs": [],
   "source": [
    "def generate_bar_graph(df, col_group, agg_type, bar_color):\n",
    "    ''' funtion is used to create simple matplotlib bar charts '''\n",
    "    col_group = filter_and_add_label_col(col_group)\n",
    "    plt.cla()\n",
    "    \n",
    "    for feature in col_group[1:]:\n",
    "        if agg_type.lower() == 'median': \n",
    "             ax = df[col_group].groupby('label')[feature].median().plot(kind='bar', title =feature, figsize=(4, 2), legend=False, fontsize=12, color=bar_color)\n",
    "        else:   \n",
    "             ax = df[col_group].groupby('label')[feature].mean().plot(kind='bar', title =feature, figsize=(4, 2), legend=False, fontsize=12, color=bar_color)\n",
    "        ax.set_xlabel(\"Label\", fontsize=12)\n",
    "        ax.set_ylabel(agg_type, fontsize=12)\n",
    "        fig_name = f\"{feature}-{agg_type}.png\"\n",
    "        plt.savefig(fig_name) \n",
    "        plt.show()"
   ]
  },
  {
   "cell_type": "code",
   "execution_count": null,
   "id": "d3a4d86f-6410-42d9-8e17-09c8e2371eb2",
   "metadata": {},
   "outputs": [],
   "source": [
    "generate_bar_graph(df_out, boolean_features, 'Mean', 'blue')"
   ]
  },
  {
   "cell_type": "code",
   "execution_count": null,
   "id": "19898c65-7f5c-4b3c-9f54-8ff7fb44b584",
   "metadata": {},
   "outputs": [],
   "source": [
    "plt.close()"
   ]
  },
  {
   "cell_type": "code",
   "execution_count": null,
   "id": "162e99af-a691-47f7-ae57-fc96ae56cea0",
   "metadata": {},
   "outputs": [],
   "source": [
    "print(psutil.virtual_memory().available * 100 / psutil.virtual_memory().total)\n",
    "gc.collect()\n",
    "print(psutil.virtual_memory().available * 100 / psutil.virtual_memory().total)"
   ]
  },
  {
   "cell_type": "markdown",
   "id": "bc7f40e0-cabf-4c05-bca8-675c46e5aa12",
   "metadata": {},
   "source": [
    "**Comment:** \n",
    "From the plots generated above it is clear to see the mean value for all boolean features is higher in the Malicious URL group "
   ]
  },
  {
   "cell_type": "markdown",
   "id": "c56202d7-d6dd-424e-bc19-eafa7ec561ca",
   "metadata": {
    "jp-MarkdownHeadingCollapsed": true
   },
   "source": [
    "## Count Features "
   ]
  },
  {
   "cell_type": "code",
   "execution_count": null,
   "id": "7cc4edde-0263-4478-8b5b-bad5e48c4677",
   "metadata": {},
   "outputs": [],
   "source": [
    "# These features are found by looking for columns containing 'count' in the column name\n",
    "count_features = [col for col in df_out.columns if 'count' in col and not 'has_' in col]\n",
    "print(count_features)"
   ]
  },
  {
   "cell_type": "code",
   "execution_count": null,
   "id": "6d0729dd-2024-4074-acc9-86b8e1e75d93",
   "metadata": {},
   "outputs": [],
   "source": [
    "# These plots need to be limited to 3 features as using all of the features will crash Juypter due to a memory error\n",
    "plot_target_feature_relationship(\\\n",
    "    df_out, \\\n",
    "    'label', \\\n",
    "    count_features[16:20], \\\n",
    "    \"boxen\")"
   ]
  },
  {
   "cell_type": "code",
   "execution_count": null,
   "id": "693862d5-e67d-4206-98b9-d2c43e16db23",
   "metadata": {},
   "outputs": [],
   "source": [
    "plt.close()"
   ]
  },
  {
   "cell_type": "code",
   "execution_count": null,
   "id": "3be672e8-5616-4eb2-908d-9ee5e6cc4581",
   "metadata": {},
   "outputs": [],
   "source": [
    "print(psutil.virtual_memory().available * 100 / psutil.virtual_memory().total)\n",
    "gc.collect()\n",
    "print(psutil.virtual_memory().available * 100 / psutil.virtual_memory().total)"
   ]
  },
  {
   "cell_type": "markdown",
   "id": "da579c81-00e0-42de-893a-a8199e08057d",
   "metadata": {
    "jp-MarkdownHeadingCollapsed": true
   },
   "source": [
    "## Length Features"
   ]
  },
  {
   "cell_type": "code",
   "execution_count": null,
   "id": "d44c9cd1-cd25-4c90-9e82-39b64b6fb4bd",
   "metadata": {},
   "outputs": [],
   "source": [
    "# These features are found by looking for columns containing 'len' in the column name\n",
    "len_features = [col for col in df_out.columns if 'len' in col]"
   ]
  },
  {
   "cell_type": "code",
   "execution_count": null,
   "id": "0e869ded-8cd5-4027-aba8-acfd2e8af83b",
   "metadata": {},
   "outputs": [],
   "source": [
    "# These plots need to be limited to 3 columns as using all of the columns will crash Juypter due to a memory error\n",
    "plot_target_feature_relationship(\\\n",
    "    df_out, \\\n",
    "    'label', \\\n",
    "    len_features[0:3], \\\n",
    "    \"boxen\")"
   ]
  },
  {
   "cell_type": "code",
   "execution_count": null,
   "id": "28e926d5-6afa-402f-b5c7-d4349b09eec2",
   "metadata": {},
   "outputs": [],
   "source": [
    "plt.close()"
   ]
  },
  {
   "cell_type": "code",
   "execution_count": null,
   "id": "bc6b053e-c4be-4c69-aba3-5a4b74ac01b4",
   "metadata": {},
   "outputs": [],
   "source": [
    "print(psutil.virtual_memory().available * 100 / psutil.virtual_memory().total)\n",
    "gc.collect()\n",
    "print(psutil.virtual_memory().available * 100 / psutil.virtual_memory().total)"
   ]
  },
  {
   "cell_type": "markdown",
   "id": "ce31b136-c74b-4453-99e0-d58e4308e5c6",
   "metadata": {
    "jp-MarkdownHeadingCollapsed": true
   },
   "source": [
    "## Feature Selection"
   ]
  },
  {
   "cell_type": "code",
   "execution_count": null,
   "id": "0bb5bf19-ba9c-4606-b990-20cad2e39950",
   "metadata": {},
   "outputs": [],
   "source": [
    "def generate_corr_matix(df, col_group): \n",
    "    correlation_matrix = df[col_group].corr()\n",
    "    return correlation_matrix"
   ]
  },
  {
   "cell_type": "code",
   "execution_count": null,
   "id": "44e2132b-dc97-4210-bc16-95af425fbf01",
   "metadata": {},
   "outputs": [],
   "source": [
    "def filter_corr_matix(cm, lower_bound, upper_bound):\n",
    "    filtered_correlations = cm[(cm <= lower_bound) | (cm >= upper_bound)]\n",
    "    return filtered_correlations"
   ]
  },
  {
   "cell_type": "code",
   "execution_count": 131,
   "id": "32130d24-4948-48bc-9620-8a7960d9f9a5",
   "metadata": {},
   "outputs": [],
   "source": [
    "def plot_corr_matrix(filtered_correlation_matrix, title, size):\n",
    "    plt.figure(figsize=size)\n",
    "    cmap = sns.diverging_palette(230, 20, as_cmap=True)\n",
    "    sns.heatmap(filtered_correlation_matrix, annot=True, cmap=cmap, center=0)\n",
    "    plt.title(title)\n",
    "    fig_name = f\"{title}.png\"\n",
    "    plt.savefig(fig_name) \n",
    "    plt.show()"
   ]
  },
  {
   "cell_type": "code",
   "execution_count": null,
   "id": "4bf142c5-37a3-4a7f-a38d-35ca7fb74606",
   "metadata": {},
   "outputs": [],
   "source": [
    "cm_features = generate_corr_matix(df_out, df_out.columns)\n",
    "filter_cm_features = filter_corr_matix(cm_features, -0.7, 0.7)\n",
    "plot_corr_matrix(filter_cm_features, \"Heatmap of Highly pos or neg Correlated Features\", (50,25))"
   ]
  },
  {
   "cell_type": "code",
   "execution_count": null,
   "id": "4bfc4b40-a1e5-4948-b881-dfb999f2875c",
   "metadata": {},
   "outputs": [],
   "source": [
    "plt.close()"
   ]
  },
  {
   "cell_type": "code",
   "execution_count": null,
   "id": "4cc82a37-3ae3-40bc-806c-f801be19fd0e",
   "metadata": {},
   "outputs": [],
   "source": [
    "print(psutil.virtual_memory().available * 100 / psutil.virtual_memory().total)\n",
    "gc.collect()\n",
    "print(psutil.virtual_memory().available * 100 / psutil.virtual_memory().total)"
   ]
  },
  {
   "cell_type": "code",
   "execution_count": null,
   "id": "1a6be91d-39c1-4feb-bf27-713036294a0a",
   "metadata": {},
   "outputs": [],
   "source": []
  },
  {
   "cell_type": "code",
   "execution_count": 135,
   "id": "ae896446-a604-49ec-bdaa-647a4a26391e",
   "metadata": {},
   "outputs": [
    {
     "data": {
      "image/png": "[encoded data removed]",
      "text/plain": [
       "<Figure size 1500x1000 with 2 Axes>"
      ]
     },
     "metadata": {},
     "output_type": "display_data"
    }
   ],
   "source": [
    "cm_len_features = generate_corr_matix(df_out, len_features)\n",
    "filter_cm_len_features = filter_corr_matix(cm_len_features, 0, 0)\n",
    "plot_corr_matrix(filter_cm_len_features, \"Correlation Heatmap of len_features\", (15,10))"
   ]
  },
  {
   "cell_type": "code",
   "execution_count": 134,
   "id": "ff0990a6-24e7-4160-8140-05ebb7f9b3e0",
   "metadata": {},
   "outputs": [
    {
     "data": {
      "image/png": "[encoded data removed]",
      "text/plain": [
       "<Figure size 1500x1000 with 2 Axes>"
      ]
     },
     "metadata": {},
     "output_type": "display_data"
    }
   ],
   "source": [
    "cm_bool_features = generate_corr_matix(df_out, boolean_features)\n",
    "filter_cm_bool_features = filter_corr_matix(cm_bool_features, 0, 0)\n",
    "plot_corr_matrix(filter_cm_bool_features, \"Correlation Heatmap of bool_features\", (15,10))"
   ]
  },
  {
   "cell_type": "code",
   "execution_count": 1,
   "id": "cf07853a-4259-4040-9c2c-26729ea68cd0",
   "metadata": {},
   "outputs": [],
   "source": [
    "#cm_count_features = generate_corr_matix(df_out, count_features)\n",
    "#filter_cm_count_features = filter_corr_matix(cm_count_features, 0, 0)\n",
    "#plot_corr_matrix(filter_cm_count_features, \"Correlation Heatmap of count_features\", (15,10))"
   ]
  },
  {
   "cell_type": "markdown",
   "id": "19f10263-5ec0-4fb6-970b-b148cc54e9f9",
   "metadata": {
    "jp-MarkdownHeadingCollapsed": true
   },
   "source": [
    "## Sampling"
   ]
  },
  {
   "cell_type": "code",
   "execution_count": 64,
   "id": "b5c0c649-e707-4fe1-89e2-f9f2bde39604",
   "metadata": {},
   "outputs": [],
   "source": [
    "try:\n",
    "    df_out = df_out.drop(['Duplicated'],axis=1)\n",
    "except Exception:\n",
    "    print(\"Duplicated column not found\")\n",
    "\n",
    "target = 'label'"
   ]
  },
  {
   "cell_type": "code",
   "execution_count": 65,
   "id": "b1a5d37f-ca85-4764-b38a-8534d0318ab1",
   "metadata": {},
   "outputs": [
    {
     "name": "stdout",
     "output_type": "stream",
     "text": [
      "X Shape: (7758227, 55)\n",
      "y Shape: (7758227,)\n",
      "label\n",
      "0    0.827678\n",
      "1    0.172322\n",
      "Name: proportion, dtype: float64\n"
     ]
    }
   ],
   "source": [
    "X = df_out.drop(['label'],axis=1)\n",
    "print(f\"X Shape: {X.shape}\")\n",
    "y = df_out['label']\n",
    "print(f\"y Shape: {y.shape}\")\n",
    "print(f\"{print_col_counts(y,'label')}\")"
   ]
  },
  {
   "cell_type": "code",
   "execution_count": 66,
   "id": "af815400-976b-44ee-8105-d34f329d082d",
   "metadata": {},
   "outputs": [
    {
     "data": {
      "text/plain": [
       "0    1\n",
       "1    0\n",
       "2    0\n",
       "3    1\n",
       "4    0\n",
       "Name: label, dtype: int64"
      ]
     },
     "execution_count": 66,
     "metadata": {},
     "output_type": "execute_result"
    }
   ],
   "source": [
    "y.head()"
   ]
  },
  {
   "cell_type": "code",
   "execution_count": 67,
   "id": "7a980f44-bb10-4ee0-92fe-ad4e291d3651",
   "metadata": {},
   "outputs": [
    {
     "name": "stdout",
     "output_type": "stream",
     "text": [
      "X Shape: (2673824, 55)\n",
      "y Shape: (2673824,)\n",
      "label\n",
      "0    0.5\n",
      "1    0.5\n",
      "Name: proportion, dtype: float64\n"
     ]
    }
   ],
   "source": [
    "rus = RandomUnderSampler(sampling_strategy=1)\n",
    "X_resampled, y_resampled = rus.fit_resample(X, y)\n",
    "print(f\"X Shape: {X_resampled.shape}\")\n",
    "print(f\"y Shape: {y_resampled.shape}\")\n",
    "print(f\"{print_col_counts(y_resampled,'label')}\")"
   ]
  },
  {
   "cell_type": "markdown",
   "id": "8374649e-4201-40ba-96cf-c5b7ec7047e9",
   "metadata": {},
   "source": [
    "**Comment:** Now we have a balanced dataset with an equal number of malicious and benign URLs"
   ]
  },
  {
   "cell_type": "markdown",
   "id": "3f7e7f55-7891-4b40-9950-1a690da36620",
   "metadata": {},
   "source": [
    "## Scaling"
   ]
  },
  {
   "cell_type": "code",
   "execution_count": 68,
   "id": "a986e250-84b6-474d-8414-01ffdf97c8b0",
   "metadata": {},
   "outputs": [
    {
     "name": "stdout",
     "output_type": "stream",
     "text": [
      "Index(['url_has_login', 'url_has_client', 'url_has_server', 'url_has_admin',\n",
      "       'url_has_ip', 'url_isshorted', 'url_len', 'url_entropy',\n",
      "       'url_hamming_1', 'url_hamming_00', 'url_hamming_10', 'url_hamming_01',\n",
      "       'url_hamming_11', 'url_2bentropy', 'url_3bentropy', 'url_count_dot',\n",
      "       'url_count_https', 'url_count_http', 'url_count_perc',\n",
      "       'url_count_hyphen', 'url_count_www', 'url_count_atrate',\n",
      "       'url_count_hash', 'url_count_semicolon', 'url_count_underscore',\n",
      "       'url_count_ques', 'url_count_equal', 'url_count_amp',\n",
      "       'url_count_letter', 'url_count_digit',\n",
      "       'url_count_sensitive_financial_words', 'url_count_sensitive_words',\n",
      "       'url_nunique_chars_ratio', 'path_len', 'path_count_no_of_dir',\n",
      "       'path_count_no_of_embed', 'path_count_zero', 'path_count_pertwent',\n",
      "       'path_has_any_sensitive_words', 'path_count_lower', 'path_count_upper',\n",
      "       'path_count_nonascii', 'path_has_singlechardir', 'path_has_upperdir',\n",
      "       'query_len', 'query_count_components', 'pdomain_len',\n",
      "       'pdomain_count_hyphen', 'pdomain_count_non_alphanum',\n",
      "       'pdomain_count_digit', 'tld_len', 'tld_is_sus', 'pdomain_min_distance',\n",
      "       'subdomain_len', 'subdomain_count_dot'],\n",
      "      dtype='object')\n"
     ]
    }
   ],
   "source": [
    "print(X_resampled.columns)"
   ]
  },
  {
   "cell_type": "code",
   "execution_count": 69,
   "id": "0e76a79e-2657-465e-809d-527e7c6271e9",
   "metadata": {},
   "outputs": [],
   "source": [
    "X_train, X_test, y_train, y_test = train_test_split(X_resampled, y_resampled, stratify=y_resampled, test_size=0.25, shuffle=True, random_state=5)"
   ]
  },
  {
   "cell_type": "code",
   "execution_count": 70,
   "id": "0ce3a79f-68e3-439f-a69e-f161f165e66d",
   "metadata": {},
   "outputs": [],
   "source": [
    "standard = StandardScaler()"
   ]
  },
  {
   "cell_type": "code",
   "execution_count": 71,
   "id": "9493116d-f888-45ac-b243-d72573f62eb2",
   "metadata": {},
   "outputs": [
    {
     "data": {
      "text/html": [
       "<div>\n",
       "<style scoped>\n",
       "    .dataframe tbody tr th:only-of-type {\n",
       "        vertical-align: middle;\n",
       "    }\n",
       "\n",
       "    .dataframe tbody tr th {\n",
       "        vertical-align: top;\n",
       "    }\n",
       "\n",
       "    .dataframe thead th {\n",
       "        text-align: right;\n",
       "    }\n",
       "</style>\n",
       "<table border=\"1\" class=\"dataframe\">\n",
       "  <thead>\n",
       "    <tr style=\"text-align: right;\">\n",
       "      <th></th>\n",
       "      <th>url_has_login</th>\n",
       "      <th>url_has_client</th>\n",
       "      <th>url_has_server</th>\n",
       "      <th>url_has_admin</th>\n",
       "      <th>url_has_ip</th>\n",
       "      <th>url_isshorted</th>\n",
       "      <th>url_len</th>\n",
       "      <th>url_entropy</th>\n",
       "      <th>url_hamming_1</th>\n",
       "      <th>url_hamming_00</th>\n",
       "      <th>...</th>\n",
       "      <th>query_count_components</th>\n",
       "      <th>pdomain_len</th>\n",
       "      <th>pdomain_count_hyphen</th>\n",
       "      <th>pdomain_count_non_alphanum</th>\n",
       "      <th>pdomain_count_digit</th>\n",
       "      <th>tld_len</th>\n",
       "      <th>tld_is_sus</th>\n",
       "      <th>pdomain_min_distance</th>\n",
       "      <th>subdomain_len</th>\n",
       "      <th>subdomain_count_dot</th>\n",
       "    </tr>\n",
       "  </thead>\n",
       "  <tbody>\n",
       "    <tr>\n",
       "      <th>432679</th>\n",
       "      <td>0</td>\n",
       "      <td>0</td>\n",
       "      <td>0</td>\n",
       "      <td>0</td>\n",
       "      <td>0</td>\n",
       "      <td>0</td>\n",
       "      <td>18</td>\n",
       "      <td>3.572431</td>\n",
       "      <td>0.555556</td>\n",
       "      <td>0.090278</td>\n",
       "      <td>...</td>\n",
       "      <td>0</td>\n",
       "      <td>0</td>\n",
       "      <td>0</td>\n",
       "      <td>0</td>\n",
       "      <td>0</td>\n",
       "      <td>2</td>\n",
       "      <td>1</td>\n",
       "      <td>10</td>\n",
       "      <td>0</td>\n",
       "      <td>0</td>\n",
       "    </tr>\n",
       "    <tr>\n",
       "      <th>4342345</th>\n",
       "      <td>0</td>\n",
       "      <td>0</td>\n",
       "      <td>0</td>\n",
       "      <td>0</td>\n",
       "      <td>0</td>\n",
       "      <td>0</td>\n",
       "      <td>21</td>\n",
       "      <td>3.422578</td>\n",
       "      <td>0.577381</td>\n",
       "      <td>0.083333</td>\n",
       "      <td>...</td>\n",
       "      <td>0</td>\n",
       "      <td>0</td>\n",
       "      <td>0</td>\n",
       "      <td>0</td>\n",
       "      <td>0</td>\n",
       "      <td>3</td>\n",
       "      <td>0</td>\n",
       "      <td>10</td>\n",
       "      <td>0</td>\n",
       "      <td>0</td>\n",
       "    </tr>\n",
       "    <tr>\n",
       "      <th>649014</th>\n",
       "      <td>0</td>\n",
       "      <td>0</td>\n",
       "      <td>0</td>\n",
       "      <td>0</td>\n",
       "      <td>0</td>\n",
       "      <td>0</td>\n",
       "      <td>5</td>\n",
       "      <td>1.921928</td>\n",
       "      <td>0.525000</td>\n",
       "      <td>0.100000</td>\n",
       "      <td>...</td>\n",
       "      <td>0</td>\n",
       "      <td>0</td>\n",
       "      <td>0</td>\n",
       "      <td>0</td>\n",
       "      <td>0</td>\n",
       "      <td>2</td>\n",
       "      <td>1</td>\n",
       "      <td>2</td>\n",
       "      <td>0</td>\n",
       "      <td>0</td>\n",
       "    </tr>\n",
       "    <tr>\n",
       "      <th>2667943</th>\n",
       "      <td>0</td>\n",
       "      <td>0</td>\n",
       "      <td>0</td>\n",
       "      <td>0</td>\n",
       "      <td>0</td>\n",
       "      <td>0</td>\n",
       "      <td>32</td>\n",
       "      <td>4.007049</td>\n",
       "      <td>0.542969</td>\n",
       "      <td>0.113281</td>\n",
       "      <td>...</td>\n",
       "      <td>0</td>\n",
       "      <td>0</td>\n",
       "      <td>0</td>\n",
       "      <td>0</td>\n",
       "      <td>0</td>\n",
       "      <td>6</td>\n",
       "      <td>1</td>\n",
       "      <td>3</td>\n",
       "      <td>0</td>\n",
       "      <td>0</td>\n",
       "    </tr>\n",
       "    <tr>\n",
       "      <th>3640179</th>\n",
       "      <td>0</td>\n",
       "      <td>0</td>\n",
       "      <td>0</td>\n",
       "      <td>0</td>\n",
       "      <td>0</td>\n",
       "      <td>0</td>\n",
       "      <td>15</td>\n",
       "      <td>3.640224</td>\n",
       "      <td>0.550000</td>\n",
       "      <td>0.091667</td>\n",
       "      <td>...</td>\n",
       "      <td>0</td>\n",
       "      <td>0</td>\n",
       "      <td>0</td>\n",
       "      <td>0</td>\n",
       "      <td>0</td>\n",
       "      <td>4</td>\n",
       "      <td>0</td>\n",
       "      <td>6</td>\n",
       "      <td>0</td>\n",
       "      <td>0</td>\n",
       "    </tr>\n",
       "  </tbody>\n",
       "</table>\n",
       "<p>5 rows × 55 columns</p>\n",
       "</div>"
      ],
      "text/plain": [
       "         url_has_login  url_has_client  url_has_server  url_has_admin  \\\n",
       "432679               0               0               0              0   \n",
       "4342345              0               0               0              0   \n",
       "649014               0               0               0              0   \n",
       "2667943              0               0               0              0   \n",
       "3640179              0               0               0              0   \n",
       "\n",
       "         url_has_ip  url_isshorted  url_len  url_entropy  url_hamming_1  \\\n",
       "432679            0              0       18     3.572431       0.555556   \n",
       "4342345           0              0       21     3.422578       0.577381   \n",
       "649014            0              0        5     1.921928       0.525000   \n",
       "2667943           0              0       32     4.007049       0.542969   \n",
       "3640179           0              0       15     3.640224       0.550000   \n",
       "\n",
       "         url_hamming_00  ...  query_count_components  pdomain_len  \\\n",
       "432679         0.090278  ...                       0            0   \n",
       "4342345        0.083333  ...                       0            0   \n",
       "649014         0.100000  ...                       0            0   \n",
       "2667943        0.113281  ...                       0            0   \n",
       "3640179        0.091667  ...                       0            0   \n",
       "\n",
       "         pdomain_count_hyphen  pdomain_count_non_alphanum  \\\n",
       "432679                      0                           0   \n",
       "4342345                     0                           0   \n",
       "649014                      0                           0   \n",
       "2667943                     0                           0   \n",
       "3640179                     0                           0   \n",
       "\n",
       "         pdomain_count_digit  tld_len  tld_is_sus  pdomain_min_distance  \\\n",
       "432679                     0        2           1                    10   \n",
       "4342345                    0        3           0                    10   \n",
       "649014                     0        2           1                     2   \n",
       "2667943                    0        6           1                     3   \n",
       "3640179                    0        4           0                     6   \n",
       "\n",
       "         subdomain_len  subdomain_count_dot  \n",
       "432679               0                    0  \n",
       "4342345              0                    0  \n",
       "649014               0                    0  \n",
       "2667943              0                    0  \n",
       "3640179              0                    0  \n",
       "\n",
       "[5 rows x 55 columns]"
      ]
     },
     "execution_count": 71,
     "metadata": {},
     "output_type": "execute_result"
    }
   ],
   "source": [
    "X_train.head()"
   ]
  },
  {
   "cell_type": "code",
   "execution_count": 72,
   "id": "4a20d69c-2705-4a6e-a8f9-0d6b465f20cb",
   "metadata": {},
   "outputs": [],
   "source": [
    "X_train = standard.fit_transform(X_train)"
   ]
  },
  {
   "cell_type": "code",
   "execution_count": 73,
   "id": "0169d255-16ea-49ae-840e-46cd471a1967",
   "metadata": {},
   "outputs": [],
   "source": [
    "X_test = standard.transform(X_test)"
   ]
  },
  {
   "cell_type": "code",
   "execution_count": 74,
   "id": "fd34d77e-1157-4dcd-9672-23972ee67c97",
   "metadata": {},
   "outputs": [
    {
     "data": {
      "text/plain": [
       "array([[-0.1422173 , -0.04410857, -0.05482668, ...,  0.92272003,\n",
       "        -0.51946045, -0.18554275],\n",
       "       [-0.1422173 , -0.04410857, -0.05482668, ...,  0.92272003,\n",
       "        -0.51946045, -0.18554275],\n",
       "       [-0.1422173 , -0.04410857, -0.05482668, ..., -1.22593185,\n",
       "        -0.51946045, -0.18554275],\n",
       "       ...,\n",
       "       [-0.1422173 , -0.04410857, -0.05482668, ..., -0.15160591,\n",
       "        -0.51946045, -0.18554275],\n",
       "       [-0.1422173 , -0.04410857, -0.05482668, ..., -0.4201874 ,\n",
       "        -0.51946045, -0.18554275],\n",
       "       [ 7.03149312, -0.04410857, -0.05482668, ..., -1.22593185,\n",
       "         1.44914061, -0.18554275]])"
      ]
     },
     "execution_count": 74,
     "metadata": {},
     "output_type": "execute_result"
    }
   ],
   "source": [
    "X_train"
   ]
  },
  {
   "cell_type": "markdown",
   "id": "64c8225d-0610-49b9-b202-e762647205d6",
   "metadata": {},
   "source": [
    "# Modelling"
   ]
  },
  {
   "cell_type": "code",
   "execution_count": 75,
   "id": "522da679-e9cd-4b83-8ea9-aa140c66bef2",
   "metadata": {},
   "outputs": [],
   "source": [
    "def generate_model_report(y_test, y_pred, title):\n",
    "    \n",
    "    conf_matrix = confusion_matrix(y_test, y_pred)\n",
    "    acc = accuracy_score(y_test, y_pred)\n",
    "    \n",
    "    #f1 = f1_score(y_test, y_pred, average=\"macro\")\n",
    "    #precision = precision_score(y_test, y_pred, average=\"macro\")\n",
    "    #recall = recall_score(y_test, y_pred, average=\"macro\")\n",
    "\n",
    "    print(f\"{title}: \")\n",
    "    print(f\"Confusion Matrix: \\n{conf_matrix}\")\n",
    "    print(classification_report(y_test, y_pred, target_names=[\"0\",\"1\"]))\n",
    "    \n",
    "    #return conf_matrix, acc, f1, precision, recall"
   ]
  },
  {
   "cell_type": "markdown",
   "id": "bdc0eec3-4e79-4d53-bee9-0a91c552618b",
   "metadata": {},
   "source": [
    "## Logistic Regression "
   ]
  },
  {
   "cell_type": "code",
   "execution_count": 83,
   "id": "3b12eff8-7300-46aa-9d61-4ce9adffa702",
   "metadata": {},
   "outputs": [],
   "source": [
    "classifier_LR = LogisticRegression(max_iter=1000)\n",
    "classifier_LR.fit(X_train, y_train.values)\n",
    "y_pred_LR = classifier_LR.predict(X_test)"
   ]
  },
  {
   "cell_type": "code",
   "execution_count": 84,
   "id": "295e16a6-5075-4651-ab6a-f2bc807964ba",
   "metadata": {},
   "outputs": [
    {
     "name": "stdout",
     "output_type": "stream",
     "text": [
      "Undersampled Logistic Regression - LBFGS: \n",
      "Confusion Matrix: \n",
      "[[291010  43218]\n",
      " [ 74846 259382]]\n",
      "              precision    recall  f1-score   support\n",
      "\n",
      "           0       0.80      0.87      0.83    334228\n",
      "           1       0.86      0.78      0.81    334228\n",
      "\n",
      "    accuracy                           0.82    668456\n",
      "   macro avg       0.83      0.82      0.82    668456\n",
      "weighted avg       0.83      0.82      0.82    668456\n",
      "\n"
     ]
    }
   ],
   "source": [
    "generate_model_report(y_test, y_pred_LR, \"Undersampled Logistic Regression - LBFGS\")"
   ]
  },
  {
   "cell_type": "markdown",
   "id": "ed210631-de15-4a61-9888-e68003877887",
   "metadata": {},
   "source": [
    "## KNN"
   ]
  },
  {
   "cell_type": "markdown",
   "id": "7f948a5d-7cfd-4343-a25a-21706fe589f0",
   "metadata": {},
   "source": [
    "### Base Model"
   ]
  },
  {
   "cell_type": "code",
   "execution_count": 76,
   "id": "6a220cb0-78c9-4781-ab14-e15a9909e32a",
   "metadata": {},
   "outputs": [],
   "source": [
    "classifier_KNN = KNeighborsClassifier()"
   ]
  },
  {
   "cell_type": "code",
   "execution_count": 85,
   "id": "467a6122-ec94-4c1e-bfc7-14beeb5af084",
   "metadata": {},
   "outputs": [],
   "source": [
    "classifier_KNN.fit(X_train, y_train.values)\n",
    "y_pred_KNN = classifier_KNN.predict(X_test)"
   ]
  },
  {
   "cell_type": "code",
   "execution_count": 86,
   "id": "c359e0e2-fe88-4475-affb-dbd0b3527a43",
   "metadata": {},
   "outputs": [
    {
     "name": "stdout",
     "output_type": "stream",
     "text": [
      "Undersampled KNN: \n",
      "Confusion Matrix: \n",
      "[[303709  30519]\n",
      " [ 61886 272342]]\n",
      "              precision    recall  f1-score   support\n",
      "\n",
      "           0       0.83      0.91      0.87    334228\n",
      "           1       0.90      0.81      0.85    334228\n",
      "\n",
      "    accuracy                           0.86    668456\n",
      "   macro avg       0.86      0.86      0.86    668456\n",
      "weighted avg       0.86      0.86      0.86    668456\n",
      "\n"
     ]
    }
   ],
   "source": [
    "generate_model_report(y_test, y_pred_KNN, \"Undersampled KNN\")"
   ]
  },
  {
   "cell_type": "markdown",
   "id": "faabed3d-73b0-4e91-bd3a-9472dae944fb",
   "metadata": {},
   "source": [
    "### Hyperparameter Tuning \n",
    "**Please note:** This portion of the project takes 12+ hours to complete. Results of this can be found in the \"KNN_cv_results.csv\" file\n",
    "With the K Nearest Neighbor classifier there are 3 primary hyperparameters to focus on:\n",
    "- Number of neighbors (in odd intervals 5,7,9,11,etc..)\n",
    "- Distance Mesurement method, default is 'minkowski' with other options 'euclidean' or 'manhattan'\n",
    "- The weight function used in the prediction, 'uniform' and 'distance'  "
   ]
  },
  {
   "cell_type": "code",
   "execution_count": 78,
   "id": "da6c943b-7e94-49c6-8ea2-e0c33aa7ebdc",
   "metadata": {},
   "outputs": [],
   "source": [
    "# Define the Hyperparameters we will test\n",
    "num_neighbors = [5, 7, 9, 11]\n",
    "#weight_function = ['uniform', 'distance'] Removed to reduce the number \n",
    "dist_measure = ['euclidean', 'manhattan', 'minkowski']\n",
    "\n",
    "# Create our Grid Search to conduct the testing\n",
    "params = dict(n_neighbors=num_neighbors, metric=dist_measure)\n",
    "\n",
    "grid_search = GridSearchCV(estimator=classifier_KNN, param_grid=params, n_jobs=-1, cv=2, scoring='accuracy',error_score=0)\n",
    "grid_result = grid_search.fit(X_train, y_train)"
   ]
  },
  {
   "cell_type": "code",
   "execution_count": 79,
   "id": "2683d770-537a-4aef-a176-cc46afbffc29",
   "metadata": {},
   "outputs": [
    {
     "name": "stdout",
     "output_type": "stream",
     "text": [
      "{'metric': 'euclidean', 'n_neighbors': 11}\n"
     ]
    }
   ],
   "source": [
    "print(grid_result.best_params_)"
   ]
  },
  {
   "cell_type": "code",
   "execution_count": 80,
   "id": "d4036bfe-e719-4e45-9b21-d6ed843560c3",
   "metadata": {},
   "outputs": [
    {
     "name": "stdout",
     "output_type": "stream",
     "text": [
      "0.8641895153408252\n"
     ]
    }
   ],
   "source": [
    "print(grid_result.best_score_)"
   ]
  },
  {
   "cell_type": "code",
   "execution_count": 82,
   "id": "ebf8ef69-24d0-4690-991c-ac43208931ba",
   "metadata": {},
   "outputs": [],
   "source": [
    "df_results = pd.DataFrame(grid_result.cv_results_)\n",
    "df_results.to_csv(\"knn_cv_results.csv\")"
   ]
  }
 ],
 "metadata": {
  "kernelspec": {
   "display_name": "Python 3 (ipykernel)",
   "language": "python",
   "name": "python3"
  },
  "language_info": {
   "codemirror_mode": {
    "name": "ipython",
    "version": 3
   },
   "file_extension": ".py",
   "mimetype": "text/x-python",
   "name": "python",
   "nbconvert_exporter": "python",
   "pygments_lexer": "ipython3",
   "version": "3.11.5"
  }
 },
 "nbformat": 4,
 "nbformat_minor": 5
}
